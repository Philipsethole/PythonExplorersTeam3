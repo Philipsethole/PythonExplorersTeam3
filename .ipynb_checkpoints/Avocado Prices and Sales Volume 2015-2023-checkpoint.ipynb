{
 "cells": [
  {
   "cell_type": "markdown",
   "id": "e23e4938-e003-44b4-b7c7-2016eb5726eb",
   "metadata": {},
   "source": [
    "# Avocado Prices and Sales Volume 2015-2023"
   ]
  },
  {
   "cell_type": "code",
   "execution_count": null,
   "id": "f8eafe84-5a73-4446-8eb7-98fd50940376",
   "metadata": {},
   "outputs": [
    {
     "data": {
      "text/html": [
       "<img src=\"https://www.buygrow.co.za/cdn/shop/products/FuerteAvocadoWB.png?v=1675280423\"/>"
      ],
      "text/plain": [
       "<IPython.core.display.Image object>"
      ]
     },
     "execution_count": 15,
     "metadata": {},
     "output_type": "execute_result"
    }
   ],
   "source": [
    "from IPython.display import Image\n",
    "Image(url='https://www.buygrow.co.za/cdn/shop/products/FuerteAvocadoWB.png?v=1675280423')\n"
   ]
  },
  {
   "cell_type": "markdown",
   "id": "68987c7a-2d0d-477b-862e-daf5e1e5005a",
   "metadata": {},
   "source": [
    "# Table of Contents\n",
    "- [1. Project Overview](#1-project-overview)\n",
    "  - [1.1 Introduction](#11-introduction)\n",
    "  - [1.2 Problem Statement](#12-problem-statement)\n",
    "  - [1.3 Objectives](#13-objectives)\n",
    "- [2. Importing Packages](#2-importing-packages)\n",
    "- [3. Loading Data](#3-loading-data)\n",
    "- [4. Data Cleaning](#4-data-cleaning)\n",
    "- [5. Exploratory Data Analysis (EDA)](#5-exploratory-data-analysis-eda)\n",
    "- [6. Conclusion](#6-conclusion)"
   ]
  },
  {
   "cell_type": "markdown",
   "id": "3f55dcce-50bb-4424-ac1a-d99bfaba9f91",
   "metadata": {},
   "source": [
    "### 1. Project Overview"
   ]
  },
  {
   "cell_type": "markdown",
   "id": "c4b46f83-8e0b-45f0-aeec-980c90fe79fa",
   "metadata": {},
   "source": [
    "##### 1.1 Introduction"
   ]
  },
  {
   "cell_type": "code",
   "execution_count": null,
   "id": "a3fa168e-1195-495a-8ac0-d507c2316cb3",
   "metadata": {},
   "outputs": [],
   "source": []
  },
  {
   "cell_type": "markdown",
   "id": "1cd41b3c-559e-4650-a439-a07ec8a78fb7",
   "metadata": {},
   "source": [
    "##### 1.2 Problem Statement"
   ]
  },
  {
   "cell_type": "code",
   "execution_count": null,
   "id": "870ce28d-de30-4573-a33f-438d660e5372",
   "metadata": {},
   "outputs": [],
   "source": []
  },
  {
   "cell_type": "markdown",
   "id": "35de7b22-fb10-4da4-b923-ec68dd8f9417",
   "metadata": {},
   "source": [
    "##### 1.3 Objectives"
   ]
  },
  {
   "cell_type": "code",
   "execution_count": 5,
   "id": "775777bf-a0cc-49c6-b3ef-4ea10018cf8d",
   "metadata": {},
   "outputs": [
    {
     "name": "stdout",
     "output_type": "stream",
     "text": [
      "Requirement already satisfied: numpy in c:\\users\\phili\\anaconda3\\envs\\new\\lib\\site-packages (2.1.3)\n",
      "Note: you may need to restart the kernel to use updated packages.\n",
      "Collecting pandasNote: you may need to restart the kernel to use updated packages.\n",
      "\n",
      "  Downloading pandas-2.2.3-cp312-cp312-win_amd64.whl.metadata (19 kB)\n",
      "Requirement already satisfied: numpy>=1.26.0 in c:\\users\\phili\\anaconda3\\envs\\new\\lib\\site-packages (from pandas) (2.1.3)\n",
      "Requirement already satisfied: python-dateutil>=2.8.2 in c:\\users\\phili\\anaconda3\\envs\\new\\lib\\site-packages (from pandas) (2.9.0.post0)\n",
      "Requirement already satisfied: pytz>=2020.1 in c:\\users\\phili\\anaconda3\\envs\\new\\lib\\site-packages (from pandas) (2024.1)\n",
      "Collecting tzdata>=2022.7 (from pandas)\n",
      "  Downloading tzdata-2024.2-py2.py3-none-any.whl.metadata (1.4 kB)\n",
      "Requirement already satisfied: six>=1.5 in c:\\users\\phili\\anaconda3\\envs\\new\\lib\\site-packages (from python-dateutil>=2.8.2->pandas) (1.16.0)\n",
      "Downloading pandas-2.2.3-cp312-cp312-win_amd64.whl (11.5 MB)\n",
      "   ---------------------------------------- 0.0/11.5 MB ? eta -:--:--\n",
      "   ---------------------------------------- 0.0/11.5 MB ? eta -:--:--\n",
      "    --------------------------------------- 0.3/11.5 MB ? eta -:--:--\n",
      "   - -------------------------------------- 0.5/11.5 MB 1.7 MB/s eta 0:00:07\n",
      "   ---- ----------------------------------- 1.3/11.5 MB 2.8 MB/s eta 0:00:04\n",
      "   ------- -------------------------------- 2.1/11.5 MB 3.1 MB/s eta 0:00:04\n",
      "   ---------- ----------------------------- 2.9/11.5 MB 3.3 MB/s eta 0:00:03\n",
      "   ------------- -------------------------- 3.9/11.5 MB 3.5 MB/s eta 0:00:03\n",
      "   --------------- ------------------------ 4.5/11.5 MB 3.5 MB/s eta 0:00:02\n",
      "   ----------------- ---------------------- 5.0/11.5 MB 3.4 MB/s eta 0:00:02\n",
      "   -------------------- ------------------- 5.8/11.5 MB 3.3 MB/s eta 0:00:02\n",
      "   --------------------- ------------------ 6.3/11.5 MB 3.2 MB/s eta 0:00:02\n",
      "   ------------------------ --------------- 7.1/11.5 MB 3.3 MB/s eta 0:00:02\n",
      "   -------------------------- ------------- 7.6/11.5 MB 3.3 MB/s eta 0:00:02\n",
      "   ---------------------------- ----------- 8.1/11.5 MB 3.2 MB/s eta 0:00:02\n",
      "   ----------------------------- ---------- 8.4/11.5 MB 3.1 MB/s eta 0:00:01\n",
      "   ------------------------------ --------- 8.9/11.5 MB 3.1 MB/s eta 0:00:01\n",
      "   --------------------------------- ------ 9.7/11.5 MB 3.1 MB/s eta 0:00:01\n",
      "   ------------------------------------ --- 10.5/11.5 MB 3.1 MB/s eta 0:00:01\n",
      "   ---------------------------------------  11.3/11.5 MB 3.1 MB/s eta 0:00:01\n",
      "   ---------------------------------------  11.3/11.5 MB 3.1 MB/s eta 0:00:01\n",
      "   ---------------------------------------- 11.5/11.5 MB 3.0 MB/s eta 0:00:00\n",
      "Downloading tzdata-2024.2-py2.py3-none-any.whl (346 kB)\n",
      "Installing collected packages: tzdata, pandas\n",
      "Successfully installed pandas-2.2.3 tzdata-2024.2\n",
      "Note: you may need to restart the kernel to use updated packages.\n"
     ]
    },
    {
     "name": "stderr",
     "output_type": "stream",
     "text": [
      "ERROR: Could not find a version that satisfies the requirement csv (from versions: none)\n",
      "ERROR: No matching distribution found for csv\n"
     ]
    },
    {
     "name": "stdout",
     "output_type": "stream",
     "text": [
      "Collecting seabornNote: you may need to restart the kernel to use updated packages.\n",
      "\n",
      "  Downloading seaborn-0.13.2-py3-none-any.whl.metadata (5.4 kB)\n",
      "Requirement already satisfied: numpy!=1.24.0,>=1.20 in c:\\users\\phili\\anaconda3\\envs\\new\\lib\\site-packages (from seaborn) (2.1.3)\n",
      "Requirement already satisfied: pandas>=1.2 in c:\\users\\phili\\anaconda3\\envs\\new\\lib\\site-packages (from seaborn) (2.2.3)\n",
      "Collecting matplotlib!=3.6.1,>=3.4 (from seaborn)\n",
      "  Downloading matplotlib-3.9.2-cp312-cp312-win_amd64.whl.metadata (11 kB)\n",
      "Collecting contourpy>=1.0.1 (from matplotlib!=3.6.1,>=3.4->seaborn)\n",
      "  Downloading contourpy-1.3.0-cp312-cp312-win_amd64.whl.metadata (5.4 kB)\n",
      "Collecting cycler>=0.10 (from matplotlib!=3.6.1,>=3.4->seaborn)\n",
      "  Downloading cycler-0.12.1-py3-none-any.whl.metadata (3.8 kB)\n",
      "Collecting fonttools>=4.22.0 (from matplotlib!=3.6.1,>=3.4->seaborn)\n",
      "  Downloading fonttools-4.54.1-cp312-cp312-win_amd64.whl.metadata (167 kB)\n",
      "Collecting kiwisolver>=1.3.1 (from matplotlib!=3.6.1,>=3.4->seaborn)\n",
      "  Downloading kiwisolver-1.4.7-cp312-cp312-win_amd64.whl.metadata (6.4 kB)\n",
      "Requirement already satisfied: packaging>=20.0 in c:\\users\\phili\\anaconda3\\envs\\new\\lib\\site-packages (from matplotlib!=3.6.1,>=3.4->seaborn) (24.1)\n",
      "Collecting pillow>=8 (from matplotlib!=3.6.1,>=3.4->seaborn)\n",
      "  Downloading pillow-11.0.0-cp312-cp312-win_amd64.whl.metadata (9.3 kB)\n",
      "Collecting pyparsing>=2.3.1 (from matplotlib!=3.6.1,>=3.4->seaborn)\n",
      "  Downloading pyparsing-3.2.0-py3-none-any.whl.metadata (5.0 kB)\n",
      "Requirement already satisfied: python-dateutil>=2.7 in c:\\users\\phili\\anaconda3\\envs\\new\\lib\\site-packages (from matplotlib!=3.6.1,>=3.4->seaborn) (2.9.0.post0)\n",
      "Requirement already satisfied: pytz>=2020.1 in c:\\users\\phili\\anaconda3\\envs\\new\\lib\\site-packages (from pandas>=1.2->seaborn) (2024.1)\n",
      "Requirement already satisfied: tzdata>=2022.7 in c:\\users\\phili\\anaconda3\\envs\\new\\lib\\site-packages (from pandas>=1.2->seaborn) (2024.2)\n",
      "Requirement already satisfied: six>=1.5 in c:\\users\\phili\\anaconda3\\envs\\new\\lib\\site-packages (from python-dateutil>=2.7->matplotlib!=3.6.1,>=3.4->seaborn) (1.16.0)\n",
      "Downloading seaborn-0.13.2-py3-none-any.whl (294 kB)\n",
      "Downloading matplotlib-3.9.2-cp312-cp312-win_amd64.whl (7.8 MB)\n",
      "   ---------------------------------------- 0.0/7.8 MB ? eta -:--:--\n",
      "   -- ------------------------------------- 0.5/7.8 MB 4.2 MB/s eta 0:00:02\n",
      "   ------ --------------------------------- 1.3/7.8 MB 3.4 MB/s eta 0:00:02\n",
      "   ---------- ----------------------------- 2.1/7.8 MB 3.5 MB/s eta 0:00:02\n",
      "   ---------------- ----------------------- 3.1/7.8 MB 3.8 MB/s eta 0:00:02\n",
      "   --------------------- ------------------ 4.2/7.8 MB 4.0 MB/s eta 0:00:01\n",
      "   ------------------------- -------------- 5.0/7.8 MB 4.0 MB/s eta 0:00:01\n",
      "   -------------------------- ------------- 5.2/7.8 MB 3.9 MB/s eta 0:00:01\n",
      "   ------------------------------ --------- 6.0/7.8 MB 3.6 MB/s eta 0:00:01\n",
      "   ---------------------------------- ----- 6.8/7.8 MB 3.6 MB/s eta 0:00:01\n",
      "   ------------------------------------ --- 7.1/7.8 MB 3.5 MB/s eta 0:00:01\n",
      "   -------------------------------------- - 7.6/7.8 MB 3.4 MB/s eta 0:00:01\n",
      "   -------------------------------------- - 7.6/7.8 MB 3.4 MB/s eta 0:00:01\n",
      "   ---------------------------------------- 7.8/7.8 MB 3.0 MB/s eta 0:00:00\n",
      "Downloading contourpy-1.3.0-cp312-cp312-win_amd64.whl (218 kB)\n",
      "Downloading cycler-0.12.1-py3-none-any.whl (8.3 kB)\n",
      "Downloading fonttools-4.54.1-cp312-cp312-win_amd64.whl (2.2 MB)\n",
      "   ---------------------------------------- 0.0/2.2 MB ? eta -:--:--\n",
      "   -------------- ------------------------- 0.8/2.2 MB 4.8 MB/s eta 0:00:01\n",
      "   ----------------------- ---------------- 1.3/2.2 MB 3.7 MB/s eta 0:00:01\n",
      "   -------------------------------------- - 2.1/2.2 MB 3.5 MB/s eta 0:00:01\n",
      "   -------------------------------------- - 2.1/2.2 MB 3.5 MB/s eta 0:00:01\n",
      "   -------------------------------------- - 2.1/2.2 MB 3.5 MB/s eta 0:00:01\n",
      "   -------------------------------------- - 2.1/2.2 MB 3.5 MB/s eta 0:00:01\n",
      "   ---------------------------------------- 2.2/2.2 MB 1.4 MB/s eta 0:00:00\n",
      "Downloading kiwisolver-1.4.7-cp312-cp312-win_amd64.whl (55 kB)\n",
      "Downloading pillow-11.0.0-cp312-cp312-win_amd64.whl (2.6 MB)\n",
      "   ---------------------------------------- 0.0/2.6 MB ? eta -:--:--\n",
      "   ------------ --------------------------- 0.8/2.6 MB 4.8 MB/s eta 0:00:01\n",
      "   ------------------------ --------------- 1.6/2.6 MB 4.4 MB/s eta 0:00:01\n",
      "   -------------------------------- ------- 2.1/2.6 MB 3.7 MB/s eta 0:00:01\n",
      "   ------------------------------------ --- 2.4/2.6 MB 3.5 MB/s eta 0:00:01\n",
      "   ------------------------------------ --- 2.4/2.6 MB 3.5 MB/s eta 0:00:01\n",
      "   ------------------------------------ --- 2.4/2.6 MB 3.5 MB/s eta 0:00:01\n",
      "   ------------------------------------ --- 2.4/2.6 MB 3.5 MB/s eta 0:00:01\n",
      "   ------------------------------------ --- 2.4/2.6 MB 3.5 MB/s eta 0:00:01\n",
      "   ---------------------------------------- 2.6/2.6 MB 1.3 MB/s eta 0:00:00\n",
      "Downloading pyparsing-3.2.0-py3-none-any.whl (106 kB)\n",
      "Installing collected packages: pyparsing, pillow, kiwisolver, fonttools, cycler, contourpy, matplotlib, seaborn\n",
      "Successfully installed contourpy-1.3.0 cycler-0.12.1 fonttools-4.54.1 kiwisolver-1.4.7 matplotlib-3.9.2 pillow-11.0.0 pyparsing-3.2.0 seaborn-0.13.2\n",
      "Note: you may need to restart the kernel to use updated packages.\n"
     ]
    },
    {
     "name": "stderr",
     "output_type": "stream",
     "text": [
      "ERROR: Could not find a version that satisfies the requirement matplotlib.pyplot (from versions: none)\n",
      "ERROR: No matching distribution found for matplotlib.pyplot\n"
     ]
    }
   ],
   "source": [
    "%pip install numpy  \n",
    "%pip install pandas\n",
    "%pip install csv\n",
    "%pip install seaborn\n",
    "%pip install matplotlib.pyplot\n"
   ]
  },
  {
   "cell_type": "markdown",
   "id": "97b005ab-8b92-4745-9ed8-b38df20e1059",
   "metadata": {},
   "source": [
    "### 2. Importing Packages"
   ]
  },
  {
   "cell_type": "code",
   "execution_count": 6,
   "id": "4b113429-290f-49b9-8f92-5704b4ce7b08",
   "metadata": {},
   "outputs": [
    {
     "name": "stderr",
     "output_type": "stream",
     "text": [
      "Matplotlib is building the font cache; this may take a moment.\n"
     ]
    }
   ],
   "source": [
    "# Libraries for data loading, manipulation and analysis\n",
    "\n",
    "import numpy as np\n",
    "import pandas as pd\n",
    "import csv\n",
    "import seaborn as sns\n",
    "import matplotlib.pyplot as plt\n",
    "\n",
    "# Displays output inline\n",
    "%matplotlib inline\n",
    "\n",
    "# Libraries for Handing Errors\n",
    "import warnings\n",
    "warnings.filterwarnings('ignore')"
   ]
  },
  {
   "cell_type": "markdown",
   "id": "878f11a5-3bce-4070-8974-9635a4d97bf9",
   "metadata": {},
   "source": [
    "### 3. Loading Data"
   ]
  },
  {
   "cell_type": "code",
   "execution_count": 7,
   "id": "b1a99092-7dcf-430f-9561-a18daa15aee5",
   "metadata": {},
   "outputs": [],
   "source": [
    "# loading dataset\n",
    "df = pd.read_csv(\"Avocado_HassAvocadoBoard_20152023v1.0.1.csv\", index_col=False)"
   ]
  },
  {
   "cell_type": "code",
   "execution_count": 8,
   "id": "be126048",
   "metadata": {},
   "outputs": [
    {
     "data": {
      "text/html": [
       "<div>\n",
       "<style scoped>\n",
       "    .dataframe tbody tr th:only-of-type {\n",
       "        vertical-align: middle;\n",
       "    }\n",
       "\n",
       "    .dataframe tbody tr th {\n",
       "        vertical-align: top;\n",
       "    }\n",
       "\n",
       "    .dataframe thead th {\n",
       "        text-align: right;\n",
       "    }\n",
       "</style>\n",
       "<table border=\"1\" class=\"dataframe\">\n",
       "  <thead>\n",
       "    <tr style=\"text-align: right;\">\n",
       "      <th></th>\n",
       "      <th>Date</th>\n",
       "      <th>AveragePrice</th>\n",
       "      <th>TotalVolume</th>\n",
       "      <th>plu4046</th>\n",
       "      <th>plu4225</th>\n",
       "      <th>plu4770</th>\n",
       "      <th>TotalBags</th>\n",
       "      <th>SmallBags</th>\n",
       "      <th>LargeBags</th>\n",
       "      <th>XLargeBags</th>\n",
       "      <th>type</th>\n",
       "      <th>region</th>\n",
       "    </tr>\n",
       "  </thead>\n",
       "  <tbody>\n",
       "    <tr>\n",
       "      <th>0</th>\n",
       "      <td>2015-01-04</td>\n",
       "      <td>1.22</td>\n",
       "      <td>40873.28</td>\n",
       "      <td>2819.50</td>\n",
       "      <td>28287.42</td>\n",
       "      <td>49.90</td>\n",
       "      <td>9716.46</td>\n",
       "      <td>9186.93</td>\n",
       "      <td>529.53</td>\n",
       "      <td>0.0</td>\n",
       "      <td>conventional</td>\n",
       "      <td>Albany</td>\n",
       "    </tr>\n",
       "    <tr>\n",
       "      <th>1</th>\n",
       "      <td>2015-01-04</td>\n",
       "      <td>1.79</td>\n",
       "      <td>1373.95</td>\n",
       "      <td>57.42</td>\n",
       "      <td>153.88</td>\n",
       "      <td>0.00</td>\n",
       "      <td>1162.65</td>\n",
       "      <td>1162.65</td>\n",
       "      <td>0.00</td>\n",
       "      <td>0.0</td>\n",
       "      <td>organic</td>\n",
       "      <td>Albany</td>\n",
       "    </tr>\n",
       "    <tr>\n",
       "      <th>2</th>\n",
       "      <td>2015-01-04</td>\n",
       "      <td>1.00</td>\n",
       "      <td>435021.49</td>\n",
       "      <td>364302.39</td>\n",
       "      <td>23821.16</td>\n",
       "      <td>82.15</td>\n",
       "      <td>46815.79</td>\n",
       "      <td>16707.15</td>\n",
       "      <td>30108.64</td>\n",
       "      <td>0.0</td>\n",
       "      <td>conventional</td>\n",
       "      <td>Atlanta</td>\n",
       "    </tr>\n",
       "    <tr>\n",
       "      <th>3</th>\n",
       "      <td>2015-01-04</td>\n",
       "      <td>1.76</td>\n",
       "      <td>3846.69</td>\n",
       "      <td>1500.15</td>\n",
       "      <td>938.35</td>\n",
       "      <td>0.00</td>\n",
       "      <td>1408.19</td>\n",
       "      <td>1071.35</td>\n",
       "      <td>336.84</td>\n",
       "      <td>0.0</td>\n",
       "      <td>organic</td>\n",
       "      <td>Atlanta</td>\n",
       "    </tr>\n",
       "    <tr>\n",
       "      <th>4</th>\n",
       "      <td>2015-01-04</td>\n",
       "      <td>1.08</td>\n",
       "      <td>788025.06</td>\n",
       "      <td>53987.31</td>\n",
       "      <td>552906.04</td>\n",
       "      <td>39995.03</td>\n",
       "      <td>141136.68</td>\n",
       "      <td>137146.07</td>\n",
       "      <td>3990.61</td>\n",
       "      <td>0.0</td>\n",
       "      <td>conventional</td>\n",
       "      <td>BaltimoreWashington</td>\n",
       "    </tr>\n",
       "  </tbody>\n",
       "</table>\n",
       "</div>"
      ],
      "text/plain": [
       "         Date  AveragePrice  TotalVolume    plu4046    plu4225   plu4770  \\\n",
       "0  2015-01-04          1.22     40873.28    2819.50   28287.42     49.90   \n",
       "1  2015-01-04          1.79      1373.95      57.42     153.88      0.00   \n",
       "2  2015-01-04          1.00    435021.49  364302.39   23821.16     82.15   \n",
       "3  2015-01-04          1.76      3846.69    1500.15     938.35      0.00   \n",
       "4  2015-01-04          1.08    788025.06   53987.31  552906.04  39995.03   \n",
       "\n",
       "   TotalBags  SmallBags  LargeBags  XLargeBags          type  \\\n",
       "0    9716.46    9186.93     529.53         0.0  conventional   \n",
       "1    1162.65    1162.65       0.00         0.0       organic   \n",
       "2   46815.79   16707.15   30108.64         0.0  conventional   \n",
       "3    1408.19    1071.35     336.84         0.0       organic   \n",
       "4  141136.68  137146.07    3990.61         0.0  conventional   \n",
       "\n",
       "                region  \n",
       "0               Albany  \n",
       "1               Albany  \n",
       "2              Atlanta  \n",
       "3              Atlanta  \n",
       "4  BaltimoreWashington  "
      ]
     },
     "execution_count": 8,
     "metadata": {},
     "output_type": "execute_result"
    }
   ],
   "source": [
    "df.head() "
   ]
  },
  {
   "cell_type": "code",
   "execution_count": 10,
   "id": "e8591f49",
   "metadata": {},
   "outputs": [
    {
     "data": {
      "text/plain": [
       "(53415, 12)"
      ]
     },
     "execution_count": 10,
     "metadata": {},
     "output_type": "execute_result"
    }
   ],
   "source": [
    "# Displays the number of rows and columns\n",
    "df.shape"
   ]
  },
  {
   "cell_type": "code",
   "execution_count": null,
   "id": "3b89ee99",
   "metadata": {},
   "outputs": [],
   "source": [
    "#Results : The dataset consists of 53415 rows (observations) and 12 columns (features)."
   ]
  },
  {
   "cell_type": "markdown",
   "id": "2870229d",
   "metadata": {},
   "source": []
  },
  {
   "cell_type": "code",
   "execution_count": null,
   "id": "a969875e",
   "metadata": {},
   "outputs": [],
   "source": []
  },
  {
   "cell_type": "code",
   "execution_count": null,
   "id": "33fc7fee",
   "metadata": {},
   "outputs": [],
   "source": []
  },
  {
   "cell_type": "markdown",
   "id": "8b170436-20e0-42fe-b13e-bb91120ad249",
   "metadata": {},
   "source": [
    "### 4. Data Cleaning"
   ]
  },
  {
   "cell_type": "code",
   "execution_count": null,
   "id": "c49f7203-7695-455f-a5b7-8a9311c82315",
   "metadata": {},
   "outputs": [],
   "source": []
  },
  {
   "cell_type": "markdown",
   "id": "d92c2118-4a6c-4063-a340-275a38b8ae8b",
   "metadata": {},
   "source": [
    "### 5. Exploratory Data Analysis (EDA)"
   ]
  },
  {
   "cell_type": "code",
   "execution_count": null,
   "id": "aaa00e75-f713-4c82-853b-95b8cf7ae29f",
   "metadata": {},
   "outputs": [],
   "source": []
  },
  {
   "cell_type": "markdown",
   "id": "d4674172-1504-462f-8d0f-39b557d5db48",
   "metadata": {},
   "source": [
    "### 6. Conclusion"
   ]
  },
  {
   "cell_type": "code",
   "execution_count": null,
   "id": "d4d0657a-ba9e-47cf-b8e0-8afe1c137d17",
   "metadata": {},
   "outputs": [],
   "source": []
  }
 ],
 "metadata": {
  "kernelspec": {
   "display_name": "new",
   "language": "python",
   "name": "python3"
  },
  "language_info": {
   "codemirror_mode": {
    "name": "ipython",
    "version": 3
   },
   "file_extension": ".py",
   "mimetype": "text/x-python",
   "name": "python",
   "nbconvert_exporter": "python",
   "pygments_lexer": "ipython3",
   "version": "3.12.4"
  }
 },
 "nbformat": 4,
 "nbformat_minor": 5
}
