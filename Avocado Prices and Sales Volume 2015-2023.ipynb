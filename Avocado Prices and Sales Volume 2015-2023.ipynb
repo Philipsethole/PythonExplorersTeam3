{
 "cells": [
  {
   "cell_type": "markdown",
   "id": "e23e4938-e003-44b4-b7c7-2016eb5726eb",
   "metadata": {},
   "source": [
    "# Avocado Prices and Sales Volume 2015-2023"
   ]
  },
  {
   "cell_type": "code",
   "execution_count": 15,
   "id": "f8eafe84-5a73-4446-8eb7-98fd50940376",
   "metadata": {},
   "outputs": [
    {
     "data": {
      "text/html": [
       "<img src=\"https://www.buygrow.co.za/cdn/shop/products/FuerteAvocadoWB.png?v=1675280423\"/>"
      ],
      "text/plain": [
       "<IPython.core.display.Image object>"
      ]
     },
     "execution_count": 15,
     "metadata": {},
     "output_type": "execute_result"
    }
   ],
   "source": [
    "from IPython.display import Image\n",
    "Image(url='https://www.buygrow.co.za/cdn/shop/products/FuerteAvocadoWB.png?v=1675280423')\n"
   ]
  },
  {
   "cell_type": "markdown",
   "id": "68987c7a-2d0d-477b-862e-daf5e1e5005a",
   "metadata": {},
   "source": [
    "# Table of Contents\n",
    "- [1. Project Overview](#1-project-overview)\n",
    "  - [1.1 Introduction](#11-introduction)\n",
    "  - [1.2 Problem Statement](#12-problem-statement)\n",
    "  - [1.3 Objectives](#13-objectives)\n",
    "- [2. Importing Packages](#2-importing-packages)\n",
    "- [3. Loading Data](#3-loading-data)\n",
    "- [4. Data Cleaning](#4-data-cleaning)\n",
    "- [5. Exploratory Data Analysis (EDA)](#5-exploratory-data-analysis-eda)\n",
    "- [6. Conclusion](#6-conclusion)"
   ]
  },
  {
   "cell_type": "markdown",
   "id": "3f55dcce-50bb-4424-ac1a-d99bfaba9f91",
   "metadata": {},
   "source": [
    "### 1. Project Overview"
   ]
  },
  {
   "cell_type": "markdown",
   "id": "c4b46f83-8e0b-45f0-aeec-980c90fe79fa",
   "metadata": {},
   "source": [
    "##### 1.1 Introduction"
   ]
  },
  {
   "cell_type": "code",
   "execution_count": null,
   "id": "a3fa168e-1195-495a-8ac0-d507c2316cb3",
   "metadata": {},
   "outputs": [],
   "source": []
  },
  {
   "cell_type": "markdown",
   "id": "1cd41b3c-559e-4650-a439-a07ec8a78fb7",
   "metadata": {},
   "source": [
    "##### 1.2 Problem Statement"
   ]
  },
  {
   "cell_type": "code",
   "execution_count": null,
   "id": "870ce28d-de30-4573-a33f-438d660e5372",
   "metadata": {},
   "outputs": [],
   "source": []
  },
  {
   "cell_type": "markdown",
   "id": "35de7b22-fb10-4da4-b923-ec68dd8f9417",
   "metadata": {},
   "source": [
    "##### 1.3 Objectives"
   ]
  },
  {
   "cell_type": "code",
   "execution_count": null,
   "id": "775777bf-a0cc-49c6-b3ef-4ea10018cf8d",
   "metadata": {},
   "outputs": [],
   "source": []
  },
  {
   "cell_type": "markdown",
   "id": "97b005ab-8b92-4745-9ed8-b38df20e1059",
   "metadata": {},
   "source": [
    "### 2. Importing Packages"
   ]
  },
  {
   "cell_type": "code",
   "execution_count": null,
   "id": "4b113429-290f-49b9-8f92-5704b4ce7b08",
   "metadata": {},
   "outputs": [],
   "source": []
  },
  {
   "cell_type": "markdown",
   "id": "878f11a5-3bce-4070-8974-9635a4d97bf9",
   "metadata": {},
   "source": [
    "### 3. Loading Data"
   ]
  },
  {
   "cell_type": "code",
   "execution_count": null,
   "id": "b1a99092-7dcf-430f-9561-a18daa15aee5",
   "metadata": {},
   "outputs": [],
   "source": []
  },
  {
   "cell_type": "markdown",
   "id": "8b170436-20e0-42fe-b13e-bb91120ad249",
   "metadata": {},
   "source": [
    "### 4. Data Cleaning"
   ]
  },
  {
   "cell_type": "code",
   "execution_count": null,
   "id": "c49f7203-7695-455f-a5b7-8a9311c82315",
   "metadata": {},
   "outputs": [],
   "source": []
  },
  {
   "cell_type": "markdown",
   "id": "d92c2118-4a6c-4063-a340-275a38b8ae8b",
   "metadata": {},
   "source": [
    "### 5. Exploratory Data Analysis (EDA)"
   ]
  },
  {
   "cell_type": "code",
   "execution_count": null,
   "id": "aaa00e75-f713-4c82-853b-95b8cf7ae29f",
   "metadata": {},
   "outputs": [],
   "source": []
  },
  {
   "cell_type": "markdown",
   "id": "d4674172-1504-462f-8d0f-39b557d5db48",
   "metadata": {},
   "source": [
    "### 6. Conclusion"
   ]
  },
  {
   "cell_type": "code",
   "execution_count": null,
   "id": "d4d0657a-ba9e-47cf-b8e0-8afe1c137d17",
   "metadata": {},
   "outputs": [],
   "source": []
  }
 ],
 "metadata": {
  "kernelspec": {
   "display_name": "Python 3 (ipykernel)",
   "language": "python",
   "name": "python3"
  },
  "language_info": {
   "codemirror_mode": {
    "name": "ipython",
    "version": 3
   },
   "file_extension": ".py",
   "mimetype": "text/x-python",
   "name": "python",
   "nbconvert_exporter": "python",
   "pygments_lexer": "ipython3",
   "version": "3.12.4"
  }
 },
 "nbformat": 4,
 "nbformat_minor": 5
}
